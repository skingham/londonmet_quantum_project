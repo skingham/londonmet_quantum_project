{
 "cells": [
  {
   "cell_type": "markdown",
   "metadata": {},
   "source": [
    "# Example QISKIT code"
   ]
  },
  {
   "cell_type": "code",
   "execution_count": 1,
   "metadata": {},
   "outputs": [],
   "source": [
    "from qiskit_ibm_runtime import QiskitRuntimeService\n",
    "# Load saved credentials\n",
    "service = QiskitRuntimeService()"
   ]
  },
  {
   "cell_type": "markdown",
   "metadata": {},
   "source": [
    "## Migrate to local simulators\n",
    "\n",
    "[IBM Migration Guides: Local simulators](https://docs.quantum.ibm.com/api/migration-guides/local-simulators)\n",
    "\n",
    "### Fake backends\n",
    "\n"
   ]
  },
  {
   "cell_type": "code",
   "execution_count": 2,
   "metadata": {},
   "outputs": [],
   "source": [
    "from qiskit.circuit.library import RealAmplitudes\n",
    "from qiskit.circuit import QuantumCircuit, QuantumRegister, ClassicalRegister\n",
    "from qiskit.quantum_info import SparsePauliOp\n",
    "from qiskit.transpiler.preset_passmanagers import generate_preset_pass_manager\n",
    "from qiskit_ibm_runtime import SamplerV2 as Sampler\n",
    "from qiskit_ibm_runtime.fake_provider import FakeManilaV2\n",
    " \n",
    "# Bell Circuit\n",
    "qc = QuantumCircuit(2)\n",
    "qc.h(0)\n",
    "qc.cx(0, 1)\n",
    "qc.measure_all()\n",
    " \n",
    "# Run the sampler job locally using FakeManilaV2\n",
    "fake_manila = FakeManilaV2()\n",
    "pm = generate_preset_pass_manager(backend=fake_manila, optimization_level=1)\n",
    "isa_qc = pm.run(qc)\n",
    " \n",
    "# You can use a fixed seed to get fixed results. \n",
    "options = {\"simulator\": {\"seed_simulator\": 42}}\n",
    "sampler = Sampler(backend=fake_manila, options=options)\n",
    " \n",
    "result = sampler.run([isa_qc]).result()"
   ]
  },
  {
   "cell_type": "markdown",
   "metadata": {},
   "source": [
    "### AerSimulator\n",
    "\n"
   ]
  },
  {
   "cell_type": "code",
   "execution_count": 3,
   "metadata": {},
   "outputs": [
    {
     "name": "stderr",
     "output_type": "stream",
     "text": [
      "/Users/skingham/Library/Anaconda/envs/py312_qiskit/lib/python3.12/site-packages/qiskit_ibm_runtime/session.py:157: UserWarning: Session is not supported in local testing mode or when using a simulator.\n",
      "  warnings.warn(\n"
     ]
    }
   ],
   "source": [
    "from qiskit_aer import AerSimulator\n",
    "from qiskit.circuit.library import RealAmplitudes\n",
    "from qiskit.circuit import QuantumCircuit, QuantumRegister, ClassicalRegister\n",
    "from qiskit.quantum_info import SparsePauliOp\n",
    "from qiskit.transpiler.preset_passmanagers import generate_preset_pass_manager\n",
    "from qiskit_ibm_runtime import Session, SamplerV2 as Sampler\n",
    " \n",
    "# Bell Circuit\n",
    "qc = QuantumCircuit(2)\n",
    "qc.h(0)\n",
    "qc.cx(0, 1)\n",
    "qc.measure_all()\n",
    " \n",
    "# Run the sampler job locally using AerSimulator.\n",
    "# Session syntax is supported but ignored because local mode doesn't support sessions.\n",
    "aer_sim = AerSimulator()\n",
    "pm = generate_preset_pass_manager(backend=aer_sim, optimization_level=1)\n",
    "isa_qc = pm.run(qc)\n",
    "with Session(backend=aer_sim) as session:\n",
    "    sampler = Sampler(session=session)\n",
    "    result = sampler.run([isa_qc]).result()"
   ]
  },
  {
   "cell_type": "code",
   "execution_count": 4,
   "metadata": {
    "tags": []
   },
   "outputs": [
    {
     "name": "stdout",
     "output_type": "stream",
     "text": [
      "expectation values : psi1 = [ 1.5557232  -1.09625114], psi2 = 0.16332666909040922\n",
      "counts for Bell circuit : {'00': 71, '11': 57}\n",
      "counts for parameterized circuit : {'01': 379, '00': 128, '10': 95, '11': 422}\n",
      "Parameterized for Bell circuit w/noise: {'10': 103, '11': 423, '00': 107, '01': 391}\n"
     ]
    }
   ],
   "source": [
    "from qiskit import transpile\n",
    "from qiskit.circuit.library import RealAmplitudes\n",
    "from qiskit.quantum_info import SparsePauliOp\n",
    "from qiskit_aer import AerSimulator\n",
    "\n",
    "sim = AerSimulator()\n",
    "# --------------------------\n",
    "# Simulating using estimator\n",
    "#---------------------------\n",
    "from qiskit_aer.primitives import EstimatorV2\n",
    "\n",
    "psi1 = transpile(RealAmplitudes(num_qubits=2, reps=2), sim, optimization_level=0)\n",
    "psi2 = transpile(RealAmplitudes(num_qubits=2, reps=3), sim, optimization_level=0)\n",
    "\n",
    "H1 = SparsePauliOp.from_list([(\"II\", 1), (\"IZ\", 2), (\"XI\", 3)])\n",
    "H2 = SparsePauliOp.from_list([(\"IZ\", 1)])\n",
    "H3 = SparsePauliOp.from_list([(\"ZI\", 1), (\"ZZ\", 1)])\n",
    "\n",
    "theta1 = [0, 1, 1, 2, 3, 5]\n",
    "theta2 = [0, 1, 1, 2, 3, 5, 8, 13]\n",
    "theta3 = [1, 2, 3, 4, 5, 6]\n",
    "\n",
    "estimator = EstimatorV2()\n",
    "\n",
    "# calculate [ [<psi1(theta1)|H1|psi1(theta1)>,\n",
    "#              <psi1(theta3)|H3|psi1(theta3)>],\n",
    "#             [<psi2(theta2)|H2|psi2(theta2)>] ]\n",
    "job = estimator.run(\n",
    "    [\n",
    "        (psi1, [H1, H3], [theta1, theta3]),\n",
    "        (psi2, H2, theta2)\n",
    "    ],\n",
    "    precision=0.01\n",
    ")\n",
    "result = job.result()\n",
    "print(f\"expectation values : psi1 = {result[0].data.evs}, psi2 = {result[1].data.evs}\")\n",
    "\n",
    "# --------------------------\n",
    "# Simulating using sampler\n",
    "# --------------------------\n",
    "from qiskit_aer.primitives import SamplerV2\n",
    "from qiskit import QuantumCircuit\n",
    "\n",
    "# create a Bell circuit\n",
    "bell = QuantumCircuit(2)\n",
    "bell.h(0)\n",
    "bell.cx(0, 1)\n",
    "bell.measure_all()\n",
    "\n",
    "# create two parameterized circuits\n",
    "pqc = RealAmplitudes(num_qubits=2, reps=2)\n",
    "pqc.measure_all()\n",
    "pqc = transpile(pqc, sim, optimization_level=0)\n",
    "pqc2 = RealAmplitudes(num_qubits=2, reps=3)\n",
    "pqc2.measure_all()\n",
    "pqc2 = transpile(pqc2, sim, optimization_level=0)\n",
    "\n",
    "theta1 = [0, 1, 1, 2, 3, 5]\n",
    "theta2 = [0, 1, 2, 3, 4, 5, 6, 7]\n",
    "\n",
    "# initialization of the sampler\n",
    "sampler = SamplerV2()\n",
    "\n",
    "# collect 128 shots from the Bell circuit\n",
    "job = sampler.run([bell], shots=128)\n",
    "job_result = job.result()\n",
    "print(f\"counts for Bell circuit : {job_result[0].data.meas.get_counts()}\")\n",
    " \n",
    "# run a sampler job on the parameterized circuits\n",
    "job2 = sampler.run([(pqc, theta1), (pqc2, theta2)])\n",
    "job_result = job2.result()\n",
    "print(f\"counts for parameterized circuit : {job_result[0].data.meas.get_counts()}\")\n",
    "\n",
    "# --------------------------------------------------\n",
    "# Simulating with noise model from actual hardware\n",
    "# --------------------------------------------------\n",
    "from qiskit_ibm_runtime import QiskitRuntimeService\n",
    "provider = QiskitRuntimeService() #channel='ibm_quantum', token=\"set your own token here\")\n",
    "backend = provider.get_backend(\"ibm_kyoto\")\n",
    "\n",
    "# create sampler from the actual backend\n",
    "sampler.from_backend(backend)\n",
    "\n",
    "# run a sampler job on the parameterized circuits with noise model of the actual hardware\n",
    "job3 = sampler.run([(pqc, theta1), (pqc2, theta2)])\n",
    "job_result = job3.result()\n",
    "print(f\"Parameterized for Bell circuit w/noise: {job_result[0].data.meas.get_counts()}\")"
   ]
  },
  {
   "cell_type": "code",
   "execution_count": 1,
   "metadata": {
    "tags": []
   },
   "outputs": [
    {
     "ename": "ModuleNotFoundError",
     "evalue": "No module named 'qiskit.aqua'",
     "output_type": "error",
     "traceback": [
      "\u001b[0;31m---------------------------------------------------------------------------\u001b[0m",
      "\u001b[0;31mModuleNotFoundError\u001b[0m                       Traceback (most recent call last)",
      "Cell \u001b[0;32mIn[1], line 3\u001b[0m\n\u001b[1;32m      1\u001b[0m \u001b[38;5;66;03m# IBM qiskit related \u001b[39;00m\n\u001b[1;32m      2\u001b[0m \u001b[38;5;28;01mfrom\u001b[39;00m \u001b[38;5;21;01mqiskit_aer\u001b[39;00m \u001b[38;5;28;01mimport\u001b[39;00m AerSimulator\n\u001b[0;32m----> 3\u001b[0m \u001b[38;5;28;01mfrom\u001b[39;00m \u001b[38;5;21;01mqiskit\u001b[39;00m\u001b[38;5;21;01m.\u001b[39;00m\u001b[38;5;21;01maqua\u001b[39;00m\u001b[38;5;21;01m.\u001b[39;00m\u001b[38;5;21;01malgorithms\u001b[39;00m \u001b[38;5;28;01mimport\u001b[39;00m Grover\n\u001b[1;32m      4\u001b[0m \u001b[38;5;28;01mfrom\u001b[39;00m \u001b[38;5;21;01mqiskit\u001b[39;00m\u001b[38;5;21;01m.\u001b[39;00m\u001b[38;5;21;01maqua\u001b[39;00m\u001b[38;5;21;01m.\u001b[39;00m\u001b[38;5;21;01mcomponents\u001b[39;00m\u001b[38;5;21;01m.\u001b[39;00m\u001b[38;5;21;01moracles\u001b[39;00m \u001b[38;5;28;01mimport\u001b[39;00m LogicalExpressionOracle\n\u001b[1;32m      5\u001b[0m \u001b[38;5;28;01mfrom\u001b[39;00m \u001b[38;5;21;01mqiskit\u001b[39;00m\u001b[38;5;21;01m.\u001b[39;00m\u001b[38;5;21;01mtools\u001b[39;00m\u001b[38;5;21;01m.\u001b[39;00m\u001b[38;5;21;01mvisualization\u001b[39;00m \u001b[38;5;28;01mimport\u001b[39;00m plot_histogram\n",
      "\u001b[0;31mModuleNotFoundError\u001b[0m: No module named 'qiskit.aqua'"
     ]
    }
   ],
   "source": [
    "# IBM qiskit related \n",
    "from qiskit_aer import AerSimulator\n",
    "from qiskit.aqua.algorithms import Grover\n",
    "from qiskit.aqua.components.oracles import LogicalExpressionOracle\n",
    "from qiskit.tools.visualization import plot_histogram\n",
    "from qiskit import IBMQ\n",
    "# string manipulation\n",
    "import re, string"
   ]
  }
 ],
 "metadata": {
  "kernelspec": {
   "display_name": "py312_qiskit",
   "language": "python",
   "name": "py312_qiskit"
  },
  "language_info": {
   "codemirror_mode": {
    "name": "ipython",
    "version": 3
   },
   "file_extension": ".py",
   "mimetype": "text/x-python",
   "name": "python",
   "nbconvert_exporter": "python",
   "pygments_lexer": "ipython3",
   "version": "3.12.3"
  }
 },
 "nbformat": 4,
 "nbformat_minor": 4
}
