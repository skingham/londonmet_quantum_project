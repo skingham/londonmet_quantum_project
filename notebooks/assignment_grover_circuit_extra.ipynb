{
 "cells": [
  {
   "cell_type": "code",
   "execution_count": null,
   "id": "8fee44cc-b68b-408c-9637-0411a0e5fdae",
   "metadata": {},
   "outputs": [],
   "source": [
    "import numpy as np\n",
    "import math\n",
    "import matplotlib.pyplot as plt"
   ]
  },
  {
   "cell_type": "code",
   "execution_count": null,
   "id": "497492d3-357c-41f5-966b-69255db47938",
   "metadata": {},
   "outputs": [],
   "source": [
    "%matplotlib inline\n",
    "\n",
    "theta = 1 / 9  # angle in radians\n",
    "t = np.arange(0, 300, 1)  # (start, stop, step)\n",
    "y = np.sin((2 * t + 1) * theta)\n",
    "\n",
    "print(\"Scatter plot\")\n",
    "plt.plot(t, y, \"o\", color=\"black\")\n",
    "plt.show()\n",
    "\n",
    "print(\"Linear interpolation\")\n",
    "plt.plot(t, y)\n",
    "plt.show()"
   ]
  },
  {
   "cell_type": "code",
   "execution_count": null,
   "id": "c7668dc5-62bf-4709-bbc1-1473da3360ed",
   "metadata": {},
   "outputs": [],
   "source": [
    "for n in range(1, 20):\n",
    "    N = 2**n\n",
    "    theta = np.arcsin(np.sqrt(1 / N))\n",
    "    t = math.floor(np.pi / (4 * theta))\n",
    "    p = np.sin((2 * t + 1) * theta) ** 2\n",
    "    print(\"%d\\t %12.10f\" % (N, p))"
   ]
  },
  {
   "cell_type": "code",
   "execution_count": null,
   "id": "ec81ba3a-7584-4c8c-9d44-a87d0117ebc5",
   "metadata": {},
   "outputs": [],
   "source": [
    "# We'll start the loop with n=2 to stay within the domain of arcsin.\n",
    "# (Note that we can't have 4 solutions when n=1.)\n",
    "\n",
    "for n in range(2, 20):\n",
    "    N = 2**n\n",
    "    old_theta = np.arcsin(np.sqrt(1 / N))\n",
    "    new_theta = np.arcsin(np.sqrt(4 / N))\n",
    "    t = math.floor(np.pi / (4 * old_theta))\n",
    "    p = np.sin((2 * t + 1) * new_theta) ** 2\n",
    "    print(\"%d\\t %12.10f\" % (N, p))"
   ]
  },
  {
   "cell_type": "code",
   "execution_count": null,
   "id": "61bd4a3c-5a89-4661-81c0-8e917eae60f8",
   "metadata": {},
   "outputs": [],
   "source": [
    "s = 7  # Number of solutions. This can be any positive integer.\n",
    "\n",
    "# The loop starts with the smallest value of n that allows s solutions.\n",
    "for n in range(math.ceil(math.log2(s)), math.ceil(math.log2(s)) + 20):\n",
    "    N = 2**n\n",
    "    theta = np.arcsin(np.sqrt(s / N))\n",
    "    t = math.floor(np.pi / (4 * theta))\n",
    "    p = np.sin((2 * t + 1) * theta) ** 2\n",
    "    print(\"%d\\t %12.10f\" % (N, np.sin((2 * t + 1) * theta) ** 2))"
   ]
  },
  {
   "cell_type": "code",
   "execution_count": null,
   "id": "c7ac5b2f-5d63-4ba2-b357-05906ad16611",
   "metadata": {},
   "outputs": [],
   "source": [
    "# IBM qiskit related \n",
    "from qiskit import BasicAer\n",
    "from qiskit.aqua.algorithms import Grover\n",
    "from qiskit.aqua.components.oracles import LogicalExpressionOracle\n",
    "from qiskit.tools.visualization import plot_histogram\n",
    "from qiskit import IBMQ\n",
    "# string manipulation\n",
    "import re, string"
   ]
  }
 ],
 "metadata": {
  "kernelspec": {
   "display_name": "py312_qiskit",
   "language": "python",
   "name": "py312_qiskit"
  },
  "language_info": {
   "codemirror_mode": {
    "name": "ipython",
    "version": 3
   },
   "file_extension": ".py",
   "mimetype": "text/x-python",
   "name": "python",
   "nbconvert_exporter": "python",
   "pygments_lexer": "ipython3",
   "version": "3.12.3"
  }
 },
 "nbformat": 4,
 "nbformat_minor": 5
}
