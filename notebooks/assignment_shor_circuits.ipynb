{
 "cells": [
  {
   "cell_type": "markdown",
   "id": "e45b2894-9c3b-4319-af95-5e4ae3eb6127",
   "metadata": {},
   "source": [
    "# Appendix: Shor's Algorithm"
   ]
  },
  {
   "cell_type": "code",
   "execution_count": null,
   "id": "8dd2ac0e-47cd-4fab-8f3e-18f8a3c3cfbc",
   "metadata": {},
   "outputs": [],
   "source": []
  },
  {
   "cell_type": "markdown",
   "id": "c49e498c-f7c6-4a14-9c6a-b7680edf2b4e",
   "metadata": {},
   "source": [
    "## Integer Factorisation"
   ]
  }
 ],
 "metadata": {
  "kernelspec": {
   "display_name": "py312_qiskit",
   "language": "python",
   "name": "py312_qiskit"
  },
  "language_info": {
   "codemirror_mode": {
    "name": "ipython",
    "version": 3
   },
   "file_extension": ".py",
   "mimetype": "text/x-python",
   "name": "python",
   "nbconvert_exporter": "python",
   "pygments_lexer": "ipython3",
   "version": "3.12.3"
  }
 },
 "nbformat": 4,
 "nbformat_minor": 5
}
